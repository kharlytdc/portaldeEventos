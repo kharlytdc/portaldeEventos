{
 "cells": [
  {
   "cell_type": "markdown",
   "metadata": {},
   "source": [
    "aca vamos a copiar instrucciones de alguna cosa"
   ]
  },
  {
   "cell_type": "code",
   "execution_count": null,
   "metadata": {
    "vscode": {
     "languageId": "html"
    }
   },
   "outputs": [],
   "source": [
    "<link rel=\"stylesheet\">"
   ]
  }
 ],
 "metadata": {
  "language_info": {
   "name": "python"
  },
  "orig_nbformat": 4
 },
 "nbformat": 4,
 "nbformat_minor": 2
}
